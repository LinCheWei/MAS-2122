{
 "cells": [
  {
   "cell_type": "markdown",
   "metadata": {
    "slideshow": {
     "slide_type": "slide"
    }
   },
   "source": [
    "# Introduction to Python Programming MAS DFAB 2122\n",
    "# Content \n",
    "\n",
    "* Comments and Strings\n",
    "* Print functions\n",
    "* Data types\n",
    "* Common operators\n",
    "* Comparison operators and conditionals\n",
    "* Sequence types\n",
    "* Definitions and functions\n",
    "* Classes"
   ]
  },
  {
   "cell_type": "markdown",
   "metadata": {
    "slideshow": {
     "slide_type": "slide"
    }
   },
   "source": [
    "# Comments and strings"
   ]
  },
  {
   "cell_type": "code",
   "execution_count": 1,
   "metadata": {
    "scrolled": true
   },
   "outputs": [],
   "source": [
    "# this is a commment"
   ]
  },
  {
   "cell_type": "code",
   "execution_count": 2,
   "metadata": {},
   "outputs": [],
   "source": [
    "# this is a multiline \n",
    "# comment"
   ]
  },
  {
   "cell_type": "code",
   "execution_count": 3,
   "metadata": {},
   "outputs": [],
   "source": [
    "# this is a multiline\n",
    "# multi-paragraph comment\n",
    "#\n",
    "# paragraphs are separated\n",
    "# by one single # (hashtag)"
   ]
  },
  {
   "cell_type": "code",
   "execution_count": 4,
   "metadata": {},
   "outputs": [
    {
     "data": {
      "text/plain": [
       "'This is also a multiline string.\\nDo you understand the usage of single, double, and triple quotation marks?\\n'"
      ]
     },
     "execution_count": 4,
     "metadata": {},
     "output_type": "execute_result"
    }
   ],
   "source": [
    "\"This is a string\"\n",
    "'This is also a string'\n",
    "\n",
    "\"This is a string with 'another string' inside\"\n",
    "\n",
    "\"\"\"This is a multiline string.\n",
    "It is usually used as documentation string a.k.a. docstring.\n",
    "\"\"\"\n",
    "\n",
    "'''This is also a multiline string.\n",
    "Do you understand the usage of single, double, and triple quotation marks?\n",
    "'''"
   ]
  },
  {
   "cell_type": "code",
   "execution_count": 5,
   "metadata": {},
   "outputs": [
    {
     "data": {
      "text/plain": [
       "'This is a multiline string.\\nIt is usually used as documentation string a.k.a. docstring.\\n'"
      ]
     },
     "execution_count": 5,
     "metadata": {},
     "output_type": "execute_result"
    }
   ],
   "source": [
    "\"\"\"This is a multiline string.\n",
    "It is usually used as documentation string a.k.a. docstring.\n",
    "\"\"\""
   ]
  },
  {
   "cell_type": "code",
   "execution_count": 6,
   "metadata": {},
   "outputs": [
    {
     "data": {
      "text/plain": [
       "'This is also a multiline string.\\nDo you understand the usage of single, double, and triple quotation marks?\\n'"
      ]
     },
     "execution_count": 6,
     "metadata": {},
     "output_type": "execute_result"
    }
   ],
   "source": [
    "'''This is also a multiline string.\n",
    "Do you understand the usage of single, double, and triple quotation marks?\n",
    "'''"
   ]
  },
  {
   "cell_type": "markdown",
   "metadata": {
    "slideshow": {
     "slide_type": "slide"
    }
   },
   "source": [
    "# Print functions\n",
    "## Variables and basic types (int, float, string, etc)"
   ]
  },
  {
   "cell_type": "code",
   "execution_count": 7,
   "metadata": {},
   "outputs": [
    {
     "name": "stdout",
     "output_type": "stream",
     "text": [
      "Hello World!\n"
     ]
    }
   ],
   "source": [
    "print ('Hello World!')"
   ]
  },
  {
   "cell_type": "code",
   "execution_count": 8,
   "metadata": {},
   "outputs": [
    {
     "name": "stdout",
     "output_type": "stream",
     "text": [
      "Hello MAS 2021/22\n"
     ]
    }
   ],
   "source": [
    "# type string (assign a variable by '=' operator)\n",
    "a = \"Hello MAS 2021/22\"\n",
    "\n",
    "print(a)"
   ]
  },
  {
   "cell_type": "code",
   "execution_count": 9,
   "metadata": {},
   "outputs": [
    {
     "name": "stdout",
     "output_type": "stream",
     "text": [
      "1 1 1\n"
     ]
    }
   ],
   "source": [
    "# multi-variable assignement\n",
    "a = b = c = 1\n",
    "\n",
    "print(a, b, c)"
   ]
  },
  {
   "cell_type": "code",
   "execution_count": 10,
   "metadata": {},
   "outputs": [
    {
     "name": "stdout",
     "output_type": "stream",
     "text": [
      "Johnny 2.0 3\n"
     ]
    }
   ],
   "source": [
    "# multi-variable multi-object assignement\n",
    "a, b, c = \"Johnny\", 2.0, 3\n",
    "\n",
    "print(a, b, c)"
   ]
  },
  {
   "cell_type": "code",
   "execution_count": 11,
   "metadata": {},
   "outputs": [
    {
     "name": "stdout",
     "output_type": "stream",
     "text": [
      "Johnny\n"
     ]
    }
   ],
   "source": [
    "# delete a variable\n",
    "print(a)\n",
    "# del(a)\n",
    "# print (a)"
   ]
  },
  {
   "cell_type": "code",
   "execution_count": 12,
   "metadata": {},
   "outputs": [
    {
     "name": "stdout",
     "output_type": "stream",
     "text": [
      "21\n",
      "10\n",
      "5.5\n",
      "26.5\n"
     ]
    }
   ],
   "source": [
    "# integers and floats\n",
    "a = 10\n",
    "b = a\n",
    "a = a + 1\n",
    "a += 10\n",
    "c = 5.5\n",
    "d = c + a\n",
    "\n",
    "print(a, b, c, d, sep='\\n')"
   ]
  },
  {
   "cell_type": "code",
   "execution_count": 13,
   "metadata": {},
   "outputs": [
    {
     "name": "stdout",
     "output_type": "stream",
     "text": [
      "<class 'int'> <class 'int'> <class 'float'> <class 'float'>\n"
     ]
    }
   ],
   "source": [
    "# types (Python variables do not need explicit declaration)\n",
    "print(type(a), type(b), type(c), type(d))"
   ]
  },
  {
   "cell_type": "code",
   "execution_count": 14,
   "metadata": {},
   "outputs": [
    {
     "name": "stdout",
     "output_type": "stream",
     "text": [
      "<class 'float'>\n",
      "5.0\n"
     ]
    }
   ],
   "source": [
    "# other ways of defining types (explicit declaration)\n",
    "# type float\n",
    "my_float = float(5)\n",
    "\n",
    "print(type(my_float))\n",
    "print(my_float)"
   ]
  },
  {
   "cell_type": "code",
   "execution_count": 15,
   "metadata": {},
   "outputs": [
    {
     "name": "stdout",
     "output_type": "stream",
     "text": [
      "<class 'float'>\n",
      "10.0\n"
     ]
    }
   ],
   "source": [
    "b = 100 / 10.0\n",
    "\n",
    "print(type(b))\n",
    "print(b)"
   ]
  },
  {
   "cell_type": "code",
   "execution_count": 16,
   "metadata": {},
   "outputs": [
    {
     "name": "stdout",
     "output_type": "stream",
     "text": [
      "<class 'int'>\n",
      "50\n"
     ]
    }
   ],
   "source": [
    "# type integer\n",
    "my_int = int(50.0)\n",
    "\n",
    "print(type(my_int))\n",
    "print(my_int)"
   ]
  },
  {
   "cell_type": "code",
   "execution_count": 17,
   "metadata": {},
   "outputs": [
    {
     "name": "stdout",
     "output_type": "stream",
     "text": [
      "5\n",
      "10\n",
      "510\n",
      "50\n"
     ]
    }
   ],
   "source": [
    "# type string\n",
    "my_string_1 = str(5)\n",
    "my_string_2 = \"10\"\n",
    "\n",
    "print(my_string_1)\n",
    "print(my_string_2)\n",
    "print(my_string_1 + my_string_2)\n",
    "\n",
    "print(repr(my_int))"
   ]
  },
  {
   "cell_type": "markdown",
   "metadata": {
    "slideshow": {
     "slide_type": "slide"
    }
   },
   "source": [
    "## Standard datatypes\n",
    "\n",
    "<ol>\n",
    "<li>Numbers (int, float, etc.)</li>\n",
    "<li>String</li>\n",
    "<li>List</li>\n",
    "<li>Tuple ('unmutable list')</li>  \n",
    "<li>Dictonary </li> \n",
    "<li>Set (unordered list)</li> \n",
    "</ol>\n",
    "\n",
    "#### Including common methods and functions:\n",
    ".update(), .add(), .discard(), .remove(), .pop(), .clear(), .union() or |,\n",
    ".intersection()  or  &, .difference()  or  -, .symmetric_difference() or  ^\n",
    "\n",
    "##### Other data types covered later\n",
    "\n"
   ]
  },
  {
   "cell_type": "markdown",
   "metadata": {
    "slideshow": {
     "slide_type": "slide"
    }
   },
   "source": [
    "# Common operators\n",
    "\n",
    "<ol>\n",
    "<li>Arithmetic Operators</li>\n",
    "<li>Comparison (Relational) Operators</li>\n",
    "<li>Assignment Operators</li>\n",
    "<li>Logical Operators</li>  \n",
    "<li>Bitwise Operators</li> \n",
    "<li>Membership Operators</li> \n",
    "<li>Identity Operators</li> \n",
    "</ol>\n",
    "\n",
    "##### we will cover arithmetic, assignment, comparison, membership and identity operators"
   ]
  },
  {
   "cell_type": "markdown",
   "metadata": {
    "slideshow": {
     "slide_type": "slide"
    }
   },
   "source": [
    "### Arithmetic operators\n",
    "\n",
    "<ol>\n",
    "<li>+, -, *, / (addition, subtraction, multiplication, division)</li>\n",
    "<li>** (exponent)</li>\n",
    "<li>% (modulus, divides left hand operand by right hand operand and returns remainder)</li>\n",
    "<li>// (floor division, division of operands where the result is the quotient in which the digits after the decimal point are removed.)</li>  \n",
    "</ol>"
   ]
  },
  {
   "cell_type": "code",
   "execution_count": 18,
   "metadata": {},
   "outputs": [
    {
     "name": "stdout",
     "output_type": "stream",
     "text": [
      "15\n"
     ]
    }
   ],
   "source": [
    "a = 10\n",
    "b = 5\n",
    "c = a + b\n",
    "\n",
    "print(c)"
   ]
  },
  {
   "cell_type": "code",
   "execution_count": 19,
   "metadata": {},
   "outputs": [
    {
     "name": "stdout",
     "output_type": "stream",
     "text": [
      "26.5\n"
     ]
    }
   ],
   "source": [
    "d = c / 10 + b * 5\n",
    "\n",
    "print(d)"
   ]
  },
  {
   "cell_type": "code",
   "execution_count": 20,
   "metadata": {},
   "outputs": [
    {
     "name": "stdout",
     "output_type": "stream",
     "text": [
      "702.25\n"
     ]
    }
   ],
   "source": [
    "d_square = d**2\n",
    "\n",
    "print(d_square)"
   ]
  },
  {
   "cell_type": "code",
   "execution_count": 21,
   "metadata": {},
   "outputs": [
    {
     "name": "stdout",
     "output_type": "stream",
     "text": [
      "0\n",
      "1\n",
      "0\n",
      "1\n",
      "0\n",
      "1\n"
     ]
    }
   ],
   "source": [
    "#Modulo\n",
    "print(0 % 2)\n",
    "print(1 % 2)\n",
    "print(2 % 2)\n",
    "print(3 % 2)\n",
    "print(4 % 2)\n",
    "print(5 % 2)"
   ]
  },
  {
   "cell_type": "code",
   "execution_count": 22,
   "metadata": {
    "scrolled": true
   },
   "outputs": [
    {
     "name": "stdout",
     "output_type": "stream",
     "text": [
      "2\n",
      "-3\n"
     ]
    }
   ],
   "source": [
    "#floor division operator\n",
    "print(8 // 3)\n",
    "print(-8 // 3)"
   ]
  },
  {
   "cell_type": "markdown",
   "metadata": {},
   "source": [
    "## Assignment operators\n",
    "<ol>\n",
    "<li>=</li> \n",
    "<li>+=</li>\n",
    "<li>-=</li>\n",
    "<li>*=</li>\n",
    "<li>/=</li>\n",
    "<li>%= (Modulus)</li>\n",
    "<li>**= (Exponent)</li>\n",
    "<li>//= (Floor Division)</li>\n",
    "<li>%= (Modulus)</li>\n",
    "</ol>\n",
    "\n",
    "#### usually used in loops, except =\n"
   ]
  },
  {
   "cell_type": "code",
   "execution_count": 23,
   "metadata": {},
   "outputs": [
    {
     "name": "stdout",
     "output_type": "stream",
     "text": [
      "1\n"
     ]
    }
   ],
   "source": [
    "e = 0\n",
    "e += 1\n",
    "\n",
    "print(e)"
   ]
  },
  {
   "cell_type": "markdown",
   "metadata": {},
   "source": [
    "# Comparison operators & conditionals (if, elif, else)\n",
    "\n",
    "<ol>\n",
    "<li>==</li> \n",
    "<li>!=</li>\n",
    "<li>></li>\n",
    "<li><</li>\n",
    "<li>>=</li>\n",
    "<li><= </li>\n",
    "\n",
    "</ol>\n",
    "\n",
    "### usually used for conditional statements"
   ]
  },
  {
   "cell_type": "code",
   "execution_count": 24,
   "metadata": {},
   "outputs": [
    {
     "name": "stdout",
     "output_type": "stream",
     "text": [
      "The value of this variable is 57\n"
     ]
    }
   ],
   "source": [
    "# single conditional statement, if-statement\n",
    "var_1 = 57\n",
    "if var_1 == 57:\n",
    "    print(\"The value of this variable is 57\")"
   ]
  },
  {
   "cell_type": "code",
   "execution_count": 25,
   "metadata": {},
   "outputs": [
    {
     "name": "stdout",
     "output_type": "stream",
     "text": [
      "The value of this variable is not 57. It is 100\n"
     ]
    }
   ],
   "source": [
    "# two-conditional statement, if-else-statement\n",
    "var_2 = 100\n",
    "if var_2 == 57:\n",
    "    print(\"The value of this variable is 57\")\n",
    "else:\n",
    "    print(\"The value of this variable is not 57. It is \" + str(var_2))"
   ]
  },
  {
   "cell_type": "code",
   "execution_count": 26,
   "metadata": {},
   "outputs": [
    {
     "name": "stdout",
     "output_type": "stream",
     "text": [
      "The value of this variable is greater than or equal\n",
      "          to 20 but smaller than or equal to 60\n"
     ]
    }
   ],
   "source": [
    "# multi-conditional statement, if-elif-else-statement\n",
    "var_3 = 30\n",
    "if var_3 < 20:\n",
    "    print(\"The value of this variable is smaller than 20\")\n",
    "elif var_3 >= 20 and var_3 <= 60:\n",
    "    print(\"\"\"The value of this variable is greater than or equal\n",
    "          to 20 but smaller than or equal to 60\"\"\")\n",
    "else:\n",
    "    print(\"The value of this variable is bigger than 60\")"
   ]
  },
  {
   "cell_type": "markdown",
   "metadata": {},
   "source": [
    "## Membership operators and identity operators\n",
    "\n",
    "\n",
    "<ol>\n",
    "<li>in</li> \n",
    "<li>not in</li>\n",
    "<li>is</li>\n",
    "<li>is not</li>\n",
    "</ol>\n",
    "\n",
    "### usually used for conditional statements  (is and is not is to check that they are the same object in the computers memory in contrast to == and !=)"
   ]
  },
  {
   "cell_type": "markdown",
   "metadata": {},
   "source": [
    "## Boolean expressions (True, False, ==, !=)"
   ]
  },
  {
   "cell_type": "code",
   "execution_count": 27,
   "metadata": {},
   "outputs": [
    {
     "name": "stdout",
     "output_type": "stream",
     "text": [
      "True\n",
      "False\n",
      "True\n",
      "True\n",
      "False\n"
     ]
    }
   ],
   "source": [
    "# True or False, == or !=\n",
    "print(True or False)\n",
    "print(True and False)\n",
    "print(10 == 10)\n",
    "print(50 <= 60)\n",
    "print(not True)"
   ]
  },
  {
   "cell_type": "markdown",
   "metadata": {},
   "source": [
    "# Sequence types"
   ]
  },
  {
   "cell_type": "markdown",
   "metadata": {},
   "source": [
    "## Lists"
   ]
  },
  {
   "cell_type": "code",
   "execution_count": 28,
   "metadata": {},
   "outputs": [
    {
     "name": "stdout",
     "output_type": "stream",
     "text": [
      "[1, 3, 4, 6, 8, 11, 13]\n",
      "['hello', 'goodbye', 'no more ideas', 'etc.']\n"
     ]
    }
   ],
   "source": [
    "# lists are a list of values\n",
    "# constructed with square brackets, separating items with commas\n",
    "# these items can have any types, e.g.\n",
    "\n",
    "number_list = [1, 3, 4, 6, 8, 11, 13]\n",
    "string_list = [\"hello\", \"goodbye\", \"no more ideas\", \"etc.\"]\n",
    "\n",
    "print(number_list)\n",
    "print(string_list)"
   ]
  },
  {
   "cell_type": "code",
   "execution_count": 29,
   "metadata": {},
   "outputs": [
    {
     "name": "stdout",
     "output_type": "stream",
     "text": [
      "[1, 2, 3, 4, 5, 6, 7, 8, 9]\n",
      "[0, 5, 10, 15, 20, 25, 30, 35, 40, 45, 50, 55, 60, 65, 70, 75, 80, 85, 90, 95]\n",
      "range(100, -10, -20)\n"
     ]
    }
   ],
   "source": [
    "# arithmetic progressions in lists, range() function\n",
    "print([*range(1, 10)])\n",
    "print(list(range(0, 100, 5)))\n",
    "print(range(100, -10, -20))"
   ]
  },
  {
   "cell_type": "code",
   "execution_count": 30,
   "metadata": {},
   "outputs": [
    {
     "name": "stdout",
     "output_type": "stream",
     "text": [
      "4\n",
      "['hello', 'goodbye', 'no more ideas', 'etc.', 1, 3, 4, 6, 8, 11, 13]\n",
      "['hello', 'goodbye', 'no more ideas', 'etc.', 'hello', 'goodbye', 'no more ideas', 'etc.']\n",
      "True\n",
      "False\n"
     ]
    }
   ],
   "source": [
    "# basic list operations\n",
    "# len(), + (concatenation), * (repetition), in (membership)\n",
    "\n",
    "print(len(string_list))\n",
    "print(string_list + number_list)\n",
    "print(string_list*2)\n",
    "print(\"hello\" in string_list)\n",
    "print(\"houdini\" in string_list)"
   ]
  },
  {
   "cell_type": "code",
   "execution_count": 31,
   "metadata": {},
   "outputs": [
    {
     "name": "stdout",
     "output_type": "stream",
     "text": [
      "hello , string_list element 1\n",
      "goodbye , string_list element 2\n"
     ]
    }
   ],
   "source": [
    "# basic list methods\n",
    "# access values in list\n",
    "print(string_list[0], \", string_list element 1\")\n",
    "print(string_list[1], \", string_list element 2\")"
   ]
  },
  {
   "cell_type": "code",
   "execution_count": 32,
   "metadata": {},
   "outputs": [
    {
     "name": "stdout",
     "output_type": "stream",
     "text": [
      "['no more ideas', 'etc.']\n",
      "['goodbye', 'no more ideas']\n",
      "etc.\n"
     ]
    }
   ],
   "source": [
    "# slicing\n",
    "print(string_list[2:4])\n",
    "print(string_list[1:3])\n",
    "print(string_list[-1])"
   ]
  },
  {
   "cell_type": "code",
   "execution_count": 33,
   "metadata": {},
   "outputs": [
    {
     "name": "stdout",
     "output_type": "stream",
     "text": [
      "[1]\n",
      "[1, 10]\n",
      "[1, 10, 100]\n"
     ]
    }
   ],
   "source": [
    "# initialize empty list\n",
    "my_list = []\n",
    "\n",
    "# append object to the end of the list, list.append(obj)\n",
    "my_list.append(1)\n",
    "print(my_list)\n",
    "\n",
    "my_list.append(10)\n",
    "print(my_list)\n",
    "\n",
    "my_list.append(100)\n",
    "print(my_list)"
   ]
  },
  {
   "cell_type": "code",
   "execution_count": 34,
   "metadata": {},
   "outputs": [
    {
     "name": "stdout",
     "output_type": "stream",
     "text": [
      "[1, 10, 100, 5, 5, 5, 5, 5, 5, 5, 5, 5, 5]\n"
     ]
    }
   ],
   "source": [
    "# extend objects to the end of the list, list.extend([obj, obj, obj])\n",
    "my_list.extend([5]*10)\n",
    "print(my_list)"
   ]
  },
  {
   "cell_type": "code",
   "execution_count": 35,
   "metadata": {},
   "outputs": [
    {
     "name": "stdout",
     "output_type": "stream",
     "text": [
      "['start', 1, 10, 100, 5, 5, 5, 5, 5, 5, 5, 5, 5, 5]\n",
      "['start', 1, 10, 100, 5, 5, 5, 5, 5, 5, 5, 5, 5, 5, 'end']\n"
     ]
    }
   ],
   "source": [
    "# inserts an object into a list at specific index\n",
    "my_list.insert(0, \"start\")\n",
    "print(my_list)\n",
    "\n",
    "my_list.insert(len(my_list), \"end\")\n",
    "print(my_list)"
   ]
  },
  {
   "cell_type": "code",
   "execution_count": 36,
   "metadata": {},
   "outputs": [
    {
     "name": "stdout",
     "output_type": "stream",
     "text": [
      "['start', 1, 10, 100, 5, 5, 5, 5, 5, 5, 5, 5, 5, 5]\n",
      "end\n"
     ]
    }
   ],
   "source": [
    "# removes and returns last object from list\n",
    "obj = my_list.pop()\n",
    "\n",
    "print(my_list)\n",
    "print(obj)"
   ]
  },
  {
   "cell_type": "code",
   "execution_count": 37,
   "metadata": {},
   "outputs": [
    {
     "name": "stdout",
     "output_type": "stream",
     "text": [
      "['start', 1, 100, 5, 5, 5, 5, 5, 5, 5, 5, 5, 5]\n"
     ]
    }
   ],
   "source": [
    "# removes object from list\n",
    "my_list.remove(10)\n",
    "\n",
    "# my_list.remove(10)\n",
    "print(my_list)"
   ]
  },
  {
   "cell_type": "code",
   "execution_count": 38,
   "metadata": {},
   "outputs": [
    {
     "name": "stdout",
     "output_type": "stream",
     "text": [
      "[5, 5, 5, 5, 5, 5, 5, 5, 5, 5, 100, 1, 'start']\n"
     ]
    }
   ],
   "source": [
    "# reverses objects of list in place\n",
    "my_list.reverse()\n",
    "\n",
    "print(my_list)"
   ]
  },
  {
   "cell_type": "code",
   "execution_count": 39,
   "metadata": {},
   "outputs": [
    {
     "name": "stdout",
     "output_type": "stream",
     "text": [
      "[0, 1, 2, 3, 4, 6, 8]\n"
     ]
    }
   ],
   "source": [
    "# sorts objects of list, use compare func if given\n",
    "my_new_list = [2,1,8,0,6,4,3]\n",
    "my_new_list.sort()\n",
    "\n",
    "print(my_new_list)"
   ]
  },
  {
   "cell_type": "markdown",
   "metadata": {},
   "source": [
    "## Tuples"
   ]
  },
  {
   "cell_type": "code",
   "execution_count": 40,
   "metadata": {},
   "outputs": [
    {
     "name": "stdout",
     "output_type": "stream",
     "text": [
      "(1, 2, 3)\n",
      "(1, 2, 3, 'hello', 'goodbye')\n"
     ]
    }
   ],
   "source": [
    "# tuple is a sequence of immutable Python objects.\n",
    "# tuples cannot be changed unlike lists\n",
    "my_tuple_1 = (1, 2, 3)\n",
    "my_tuple_2 = (\"hello\", \"goodbye\")\n",
    "print(my_tuple_1)\n",
    "print(my_tuple_1 + my_tuple_2)\n",
    "\n",
    "# value access similar to lists\n",
    "# basic operations: len(), concatenation, repetition, membership, iteration"
   ]
  },
  {
   "cell_type": "markdown",
   "metadata": {},
   "source": [
    "## Simple dictionaries"
   ]
  },
  {
   "cell_type": "code",
   "execution_count": 41,
   "metadata": {},
   "outputs": [
    {
     "name": "stdout",
     "output_type": "stream",
     "text": [
      "my_dict['Name']:  Remy\n",
      "my_dict['Age']:  35\n",
      "my_dict['Name']:  Remy\n",
      "my_dict['Programme']:  MAS DFAB 2122\n"
     ]
    }
   ],
   "source": [
    "# a list of keys - each key is pointing to a value\n",
    "# keys have to be immutable data type, values can be of any type\n",
    "\n",
    "# example\n",
    "my_dict = {\"Name\": \"Remy\", \"Age\": 35, \"Profession\": \"Designer\"}\n",
    "print(\"my_dict['Name']: \", my_dict['Name'])\n",
    "print(\"my_dict['Age']: \", my_dict['Age'])\n",
    "\n",
    "my_dict['Age'] = 32  # update existing entry\n",
    "my_dict['Programme'] = \"MAS DFAB 2122\"  # add new entry\n",
    "\n",
    "print(\"my_dict['Name']: \", my_dict['Name'])\n",
    "print(\"my_dict['Programme']: \", my_dict['Programme'])"
   ]
  },
  {
   "cell_type": "markdown",
   "metadata": {},
   "source": [
    "## loops (for, while, nested loops, etc.)"
   ]
  },
  {
   "cell_type": "code",
   "execution_count": 42,
   "metadata": {},
   "outputs": [
    {
     "name": "stdout",
     "output_type": "stream",
     "text": [
      "1\n",
      "2\n",
      "3\n",
      "4\n",
      "5\n",
      "6\n",
      "7\n",
      "8\n",
      "9\n",
      "10\n",
      "out of while loop\n"
     ]
    }
   ],
   "source": [
    "# while loop\n",
    "# repeats statement(s) while a condition is TRUE\n",
    "# make sure to ALWAYS have an exit condition\n",
    "\n",
    "break_condition = 0\n",
    "while break_condition < 10:\n",
    "    break_condition = break_condition + 1\n",
    "    print(break_condition)\n",
    "else:\n",
    "    print(\"out of while loop\")"
   ]
  },
  {
   "cell_type": "code",
   "execution_count": 43,
   "metadata": {},
   "outputs": [
    {
     "name": "stdout",
     "output_type": "stream",
     "text": [
      "dog\n",
      "cat\n",
      "horse\n",
      "rabbit\n",
      "snake\n"
     ]
    }
   ],
   "source": [
    "# for loop\n",
    "# iterating over items of a sequence (usually a list)\n",
    "pets = [\"dog\", \"cat\", \"horse\", \"rabbit\", \"snake\"]\n",
    "for pet in pets:\n",
    "    print(pet)"
   ]
  },
  {
   "cell_type": "code",
   "execution_count": 44,
   "metadata": {},
   "outputs": [
    {
     "name": "stdout",
     "output_type": "stream",
     "text": [
      "0\n",
      "1\n",
      "2\n",
      "3\n",
      "4\n",
      "5\n",
      "6\n",
      "7\n",
      "8\n",
      "9\n"
     ]
    }
   ],
   "source": [
    "for i in range(10):\n",
    "    print(i)"
   ]
  },
  {
   "cell_type": "code",
   "execution_count": 45,
   "metadata": {},
   "outputs": [
    {
     "name": "stdout",
     "output_type": "stream",
     "text": [
      "letter number 0 : P\n",
      "letter number 1 : y\n",
      "letter number 2 : t\n",
      "letter number 3 : h\n",
      "letter number 4 : o\n",
      "letter number 5 : n\n"
     ]
    }
   ],
   "source": [
    "for i, letter in enumerate(\"Python\"):\n",
    "    print(\"letter number\",i, \":\", letter)"
   ]
  },
  {
   "cell_type": "code",
   "execution_count": 46,
   "metadata": {},
   "outputs": [
    {
     "name": "stdout",
     "output_type": "stream",
     "text": [
      "0 0\n",
      "0 1\n",
      "0 2\n",
      "0 3\n",
      "0 4\n",
      "1 0\n",
      "1 1\n",
      "1 2\n",
      "1 3\n",
      "1 4\n",
      "2 0\n",
      "2 1\n",
      "2 2\n",
      "2 3\n",
      "2 4\n",
      "3 0\n",
      "3 1\n",
      "3 2\n",
      "3 3\n",
      "3 4\n",
      "4 0\n",
      "4 1\n",
      "4 2\n",
      "4 3\n",
      "4 4\n",
      "5 0\n",
      "5 1\n",
      "5 2\n",
      "5 3\n",
      "5 4\n",
      "6 0\n",
      "6 1\n",
      "6 2\n",
      "6 3\n",
      "6 4\n",
      "7 0\n",
      "7 1\n",
      "7 2\n",
      "7 3\n",
      "7 4\n",
      "8 0\n",
      "8 1\n",
      "8 2\n",
      "8 3\n",
      "8 4\n",
      "9 0\n",
      "9 1\n",
      "9 2\n",
      "9 3\n",
      "9 4\n"
     ]
    }
   ],
   "source": [
    "# nested loops\n",
    "points = []\n",
    "x_size = 10\n",
    "y_size = 5\n",
    "\n",
    "for i in range(x_size):\n",
    "    for j in range(y_size):\n",
    "        print(i, j)"
   ]
  },
  {
   "cell_type": "code",
   "execution_count": 1,
   "metadata": {},
   "outputs": [
    {
     "name": "stdout",
     "output_type": "stream",
     "text": [
      "[0, 1, 2, 3, 4, 5, 6, 7, 8, 9]\n"
     ]
    }
   ],
   "source": [
    "# list comprehension\n",
    "k = [i for i in range(10)]\n",
    "print(k)"
   ]
  },
  {
   "cell_type": "markdown",
   "metadata": {},
   "source": [
    "# Definitions, functions (functions, nested functions, recursive functions)"
   ]
  },
  {
   "cell_type": "code",
   "execution_count": 47,
   "metadata": {},
   "outputs": [],
   "source": [
    "def list_sum(number_list):\n",
    "    output = 0\n",
    "    for number in number_list:\n",
    "        output += number\n",
    "    return output"
   ]
  },
  {
   "cell_type": "code",
   "execution_count": 48,
   "metadata": {},
   "outputs": [
    {
     "name": "stdout",
     "output_type": "stream",
     "text": [
      "[2, 2, 2, 2, 2, 2, 2, 2, 2, 2]\n",
      "20\n"
     ]
    }
   ],
   "source": [
    "l = [2]*10\n",
    "print(l)\n",
    "\n",
    "print(list_sum(l))"
   ]
  },
  {
   "cell_type": "code",
   "execution_count": 49,
   "metadata": {},
   "outputs": [],
   "source": [
    "def say_hello(name):\n",
    "    print(\"goodmorning \"+name)"
   ]
  },
  {
   "cell_type": "code",
   "execution_count": 50,
   "metadata": {},
   "outputs": [
    {
     "name": "stdout",
     "output_type": "stream",
     "text": [
      "goodmorning Remy\n",
      "goodmorning Mas 2122\n",
      "goodmorning Remy\n",
      "goodmorning Mas 2122\n",
      "goodmorning Remy\n",
      "goodmorning Mas 2122\n",
      "goodmorning Remy\n",
      "goodmorning Mas 2122\n",
      "goodmorning Remy\n",
      "goodmorning Mas 2122\n"
     ]
    }
   ],
   "source": [
    "for i in range(10):\n",
    "    if i % 2 == 0:\n",
    "        say_hello(\"Remy\")\n",
    "    else:\n",
    "        say_hello(\"Mas 2122\")"
   ]
  },
  {
   "cell_type": "code",
   "execution_count": 51,
   "metadata": {},
   "outputs": [],
   "source": [
    "import math\n",
    "\n",
    "def circle_area(radius):\n",
    "    area = math.pi * radius ** 2\n",
    "    return area"
   ]
  },
  {
   "cell_type": "code",
   "execution_count": 52,
   "metadata": {},
   "outputs": [
    {
     "name": "stdout",
     "output_type": "stream",
     "text": [
      "i =  0  and area =  0.0\n",
      "i =  1  and area =  3.141592653589793\n",
      "i =  2  and area =  12.566370614359172\n",
      "i =  3  and area =  28.274333882308138\n",
      "i =  4  and area =  50.26548245743669\n",
      "i =  5  and area =  78.53981633974483\n",
      "i =  6  and area =  113.09733552923255\n",
      "i =  7  and area =  153.93804002589985\n",
      "i =  8  and area =  201.06192982974676\n",
      "i =  9  and area =  254.46900494077323\n"
     ]
    }
   ],
   "source": [
    "for i in range(10):\n",
    "    print(\"i = \", i, \" and area = \", circle_area(i))"
   ]
  },
  {
   "cell_type": "code",
   "execution_count": 53,
   "metadata": {},
   "outputs": [
    {
     "name": "stdout",
     "output_type": "stream",
     "text": [
      "number =  1 area =  3.141592653589793\n",
      "number =  1 area =  3.141592653589793\n",
      "number =  2 area =  12.566370614359172\n",
      "number =  3 area =  28.274333882308138\n",
      "number =  5 area =  78.53981633974483\n",
      "number =  8 area =  201.06192982974676\n",
      "number =  13 area =  530.929158456675\n"
     ]
    }
   ],
   "source": [
    "fib = [1, 1, 2, 3, 5, 8, 13]\n",
    "\n",
    "for number in fib:\n",
    "    print(\"number = \", number, \"area = \", circle_area(number))"
   ]
  },
  {
   "cell_type": "code",
   "execution_count": 54,
   "metadata": {},
   "outputs": [
    {
     "name": "stdout",
     "output_type": "stream",
     "text": [
      "running recursive function \n",
      "running recursive function \n",
      "running recursive function \n",
      "running recursive function \n",
      "running recursive function \n",
      "End\n"
     ]
    }
   ],
   "source": [
    "def recursive(n):\n",
    "    print(\"running recursive function \")\n",
    "    if n == 1:\n",
    "        return 1\n",
    "    else:\n",
    "        res = n * recursive(n-1)  \n",
    "        return \"End\"\n",
    "\n",
    "print(recursive(5))"
   ]
  },
  {
   "cell_type": "markdown",
   "metadata": {},
   "source": [
    "# Classes"
   ]
  },
  {
   "cell_type": "code",
   "execution_count": 55,
   "metadata": {},
   "outputs": [],
   "source": [
    "#import statements\n",
    "import math\n",
    "import matplotlib.pyplot as plt\n",
    "import random as r"
   ]
  },
  {
   "cell_type": "code",
   "execution_count": 56,
   "metadata": {},
   "outputs": [],
   "source": [
    "class Circle:\n",
    "    def __init__(self, radius, x_pos, y_pos, color):\n",
    "        # store init values as internal variables\n",
    "        self.radius = radius\n",
    "        self.x = x_pos\n",
    "        self.y = y_pos\n",
    "        self.c = color\n",
    "\n",
    "    def calculate_area(self):\n",
    "        # calculate and print out area\n",
    "        area = math.pi * self.radius ** 2\n",
    "        return area\n",
    "\n",
    "    def calculate_circumference(self):\n",
    "        # calculate and print out circumference\n",
    "        circumference = 2 * math.pi * self.radius\n",
    "        return circumference\n",
    "\n",
    "    def display(self):\n",
    "        xc = []\n",
    "        yc = []\n",
    "        res = 100\n",
    "        a = 2*math.pi/res\n",
    "        for i in range(res):\n",
    "            xc.append(self.x + math.cos(i*a) * self.radius)\n",
    "            yc.append(self.y + math.sin(i*a) * self.radius)\n",
    "        plt.fill(xc, yc, c=self.c)\n"
   ]
  },
  {
   "cell_type": "code",
   "execution_count": 57,
   "metadata": {},
   "outputs": [
    {
     "data": {
      "image/png": "[encoded data removed]",
      "text/plain": [
       "<Figure size 1080x1080 with 1 Axes>"
      ]
     },
     "metadata": {
      "needs_background": "light"
     },
     "output_type": "display_data"
    }
   ],
   "source": [
    "plt.figure(figsize=(15, 15))\n",
    "plt.axis('equal')\n",
    "# plt.axis('off')\n",
    "\n",
    "areas = []\n",
    "circumferences = []\n",
    "\n",
    "for i in range(100):\n",
    "    c = Circle(r.random(), r.random()*10, r.random()*10, (0, 0, r.random()))\n",
    "    areas.append(c.calculate_area())\n",
    "    circumferences.append(c.calculate_circumference())\n",
    "    c.display()"
   ]
  },
  {
   "cell_type": "code",
   "execution_count": 58,
   "metadata": {},
   "outputs": [
    {
     "name": "stdout",
     "output_type": "stream",
     "text": [
      "[0.6485376763150944, 0.011001974451332115, 0.0008709364273559671, 1.650071762068152, 0.5335263315194751, 2.454164640859204, 0.35791624554522244, 2.111117774963686, 0.7857442854597388, 0.5289067208041301, 1.256995825437964, 2.8106034657270196, 0.3637481236942214, 0.6127292135673795, 0.07270213122971171, 1.0166095589232467, 2.933231697306375, 1.7646917652064367, 1.6400092838630365, 1.6759205615338912, 0.43279229439858596, 1.3228679941419828, 0.17569295417114222, 2.463494686937445, 2.588920076698282, 0.25708557864102444, 1.099411464658345, 1.1369408753888097, 1.5226373332740297, 1.5000034916357106, 0.04143565366863272, 1.1919778276534538, 1.7701307520904377, 0.10189638070790918, 0.014970346102649223, 2.469995547269123, 1.7170728177186658, 1.1643152247581734, 0.32906389989764934, 0.4776003479618136, 0.16735676840080874, 1.1382459879425584, 3.0510125755254607, 1.1836793829792827, 0.019356352565165866, 0.29979360919634646, 1.6630860973232888, 0.5007395501666377, 1.2026389530178319, 0.6783987765153947, 0.005617058800977446, 2.843455609506171, 0.5646652549448565, 0.08310119238062308, 0.41256490097013254, 0.6419704964154039, 0.011731230440020913, 0.09776815336217397, 2.240091537881966, 0.35742060811222404, 1.21950744388596, 2.58108366610694, 0.0002012325840338093, 0.4341070335819581, 1.2503761940511953, 3.0472294494511014, 0.5225984052121144, 1.9474825739895827, 1.4646276164031693, 0.10657900819639254, 0.624258900498048, 1.651298594524376, 0.21163204396632287, 0.05487650952729153, 1.0440961120818506, 2.215590980871867, 2.209073693879199, 1.7021323093155933, 0.08991831889120269, 0.6696808403170109, 0.3609771877996973, 0.0055030130666431564, 0.10354376727408632, 0.42170865738481095, 2.980764034753751, 0.009145176944780752, 2.7674230326065086, 1.3671166676785858, 2.8909077142405555, 0.1957301779839803, 2.144763446443024, 0.6002615457288448, 0.16024165120635955, 3.0499523467372374, 0.6209861131302075, 0.46292497396966037, 0.1787660820848989, 1.076918111355388, 0.17982970044398933, 0.678501768592807]\n"
     ]
    }
   ],
   "source": [
    "print(areas)"
   ]
  },
  {
   "cell_type": "code",
   "execution_count": 59,
   "metadata": {},
   "outputs": [
    {
     "name": "stdout",
     "output_type": "stream",
     "text": [
      "0.05028680970845162\n",
      "6.1919427301230305\n"
     ]
    }
   ],
   "source": [
    "print(min(circumferences))\n",
    "print(max(circumferences))"
   ]
  },
  {
   "cell_type": "code",
   "execution_count": null,
   "metadata": {},
   "outputs": [],
   "source": []
  }
 ],
 "metadata": {
  "celltoolbar": "Slideshow",
  "kernelspec": {
   "display_name": "Python 3 (ipykernel)",
   "language": "python",
   "name": "python3"
  },
  "language_info": {
   "codemirror_mode": {
    "name": "ipython",
    "version": 3
   },
   "file_extension": ".py",
   "mimetype": "text/x-python",
   "name": "python",
   "nbconvert_exporter": "python",
   "pygments_lexer": "ipython3",
   "version": "3.9.6"
  }
 },
 "nbformat": 4,
 "nbformat_minor": 2
}
